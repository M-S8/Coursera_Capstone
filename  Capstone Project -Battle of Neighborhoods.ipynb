{
    "cells": [
        {
            "cell_type": "markdown",
            "metadata": {
                "collapsed": true
            },
            "source": "## Business idea for client who wants to shift to Etobicoke district in Toronto and open a new business there\n#### A client wants to migrate to Etobicoke district to start a new life.He wants to run a business for his livelihood.Starting a new business in a new city is tricky.He needs to choose a neighborhood which will boost his business.\n\n#### What the client wants?\n---\n#### 1.The client wants to open an Italian restaurant in a neighborhood of Etobicoke\n####  2.He wants to find out the the three best neighborhoods in Etobicoke where he can multiply his business in case he wants to run several chains of his restaurant.\n"
        },
        {
            "cell_type": "markdown",
            "metadata": {},
            "source": "## Approach to the problem\n#### 1.First we need to find out the neighborhoods in Etobicoke and their respective coordinates.The list of neighborhoods can be obtained by wrangling data from the following Wikipedia page.https://en.wikipedia.org/wiki/List_of_neighbourhoods_in_Toronto#Etobicoke\n\n####  Then we can find the coordinates of each neighborhood using Geocoder Python package.\n\n#### 2.After obtaining coordinates,we will use Foursquare API to explore the venues in each neighborhood of Etobicoke.We will specifically look for venues  having venues category as restaurant.\n\n#### 3.We will then filter our search to find the top 3 neighborhoods having the least number of restaurants.This is because its wise to start a new restaurant in a place where the competition is less.\n\n#### 4.Once we find the top 3 neighborhoods of Toronto having the least number of restaurants, the client can proceed to start his restaurant in any of these three neighborhoods  and can expand gradually to the other two neighborhoods  in due time."
        },
        {
            "cell_type": "code",
            "execution_count": null,
            "metadata": {},
            "outputs": [],
            "source": ""
        }
    ],
    "metadata": {
        "kernelspec": {
            "display_name": "Python 3.7",
            "language": "python",
            "name": "python3"
        },
        "language_info": {
            "codemirror_mode": {
                "name": "ipython",
                "version": 3
            },
            "file_extension": ".py",
            "mimetype": "text/x-python",
            "name": "python",
            "nbconvert_exporter": "python",
            "pygments_lexer": "ipython3",
            "version": "3.7.9"
        }
    },
    "nbformat": 4,
    "nbformat_minor": 1
}